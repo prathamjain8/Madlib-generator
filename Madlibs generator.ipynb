{
 "cells": [
  {
   "cell_type": "code",
   "execution_count": 1,
   "id": "3524afca",
   "metadata": {},
   "outputs": [],
   "source": [
    "# The idea is we have some story and the story have some replaceble words like adjective, location, weather condition etc.\n",
    "# To do this first of all grab a stroy from sommewhere like from chat gpt and then create a text file manually in the same \n",
    "# directory where the python file is and then paste that story in that text file.\n",
    "# Now load this story in our python notebook\n",
    "# .read() gives all the text inside the file\n",
    "# Now after reading the story in our notebook then look for all of the words in the story and grab the words who are startin\n",
    "# with < and find upto the > symbol \n",
    "# enumerate() function will give us the position as well as the access to the element at that position \n",
    "# .replaceAll() will replace every single instance of one string with another\n"
   ]
  },
  {
   "cell_type": "code",
   "execution_count": 17,
   "id": "033b57cb",
   "metadata": {},
   "outputs": [
    {
     "name": "stdout",
     "output_type": "stream",
     "text": [
      "Once upon a time, in a <adjective> forest, there lived a <animal>. This <animal> was known for its <adjective> fur and <adjective> eyes. One day, while <verb> near a <noun>, the <animal> stumbled upon a <adjective> <noun>. It was a magical <noun> that granted <animal>s the power to <verb> <noun>s.\n",
      "\n",
      "Excitedly, the <animal> approached the <noun> and said, \"Oh wise <noun>, please grant me the ability to <verb>.\" Suddenly, a bright light engulfed the <animal>, and it felt a surge of <emotion> fill its heart. From that day on, the <animal> used its newfound power to <verb> all the <noun>s in the forest and spread <emotion> wherever it went.\n",
      "\n",
      "{'<adjective>', '<noun>', '<emotion>', '<animal>', '<verb>'}\n",
      "\n",
      "Enter a word for: <adjective>: chair\n",
      "Enter a word for: <noun>: is\n",
      "Enter a word for: <emotion>: happy\n",
      "Enter a word for: <animal>: dog\n",
      "Enter a word for: <verb>: playing\n",
      "{'<adjective>': 'chair', '<noun>': 'is', '<emotion>': 'happy', '<animal>': 'dog', '<verb>': 'playing'}\n",
      "\n",
      "Once upon a time, in a chair forest, there lived a dog. This dog was known for its chair fur and chair eyes. One day, while playing near a is, the dog stumbled upon a chair is. It was a magical is that granted dogs the power to playing iss.\n",
      "\n",
      "Excitedly, the dog approached the is and said, \"Oh wise is, please grant me the ability to playing.\" Suddenly, a bright light engulfed the dog, and it felt a surge of happy fill its heart. From that day on, the dog used its newfound power to playing all the iss in the forest and spread happy wherever it went.\n"
     ]
    }
   ],
   "source": [
    "with open('story.txt', 'r') as f:\n",
    "    story = f.read()   \n",
    "print(story)\n",
    "print()\n",
    "\n",
    "\n",
    "# Code to get all the words in a set\n",
    "words = set()   # it is used to store all the words which we want to replace and set() is used to get only unique words \n",
    "start_of_word = -1    #this variable tell us if we currently found the index of the word, if we have then look for the end, if we haven't then wait until we find the starting index\n",
    "target_start = '<'\n",
    "target_end = '>'\n",
    "for i, char in enumerate(story):\n",
    "    if char == target_start:\n",
    "        start_of_word = i\n",
    "    if char == target_end and start_of_word != -1:\n",
    "        word = story[start_of_word: i +1]  # here [] is used to slice the word from the starting index to the ending index+1\n",
    "        words.add(word)\n",
    "        start_of_word = -1  # wr are resetting this because we found one whole word then again it will start searching for another word     \n",
    "print(words) \n",
    "print()\n",
    "\n",
    "\n",
    "# Code to aske the user to give the value for each of the words and for that we set up a dictionary. the keys will be the words and the value will be the value of those words\n",
    "# The reason to do is that we can easily look up the value for the word and after that we will take those values and replace them in our story\n",
    "# we can access the value of the key from the dictionary by using [\"Key\"]\n",
    "# first we set up an empty dictionary\n",
    "# After that we will loop through all of the unique words that we have and we ask the user to give value for them.\n",
    "answers = {}\n",
    "for word in words:\n",
    "    answer = input(\"Enter a word for: \" + word + \": \")\n",
    "    answers[word] = answer # it is used to store the answers to the corresponding word in the dictionary   \n",
    "print(answers)\n",
    "print()\n",
    "\n",
    "\n",
    "# Now we take every single word and replce them in the story\n",
    "for word in words:\n",
    "    story = story.replace(word, answers[word])  # we have to store it in a variable to display the story otherwise its just giving a replaced string and dont display it \n",
    "print(story)\n",
    "\n",
    "\n",
    "# Code to write the new story to the file\n",
    "with open('new_story.txt', 'w') as f:\n",
    "    f.write(story)"
   ]
  },
  {
   "cell_type": "code",
   "execution_count": null,
   "id": "a6aa51d9",
   "metadata": {},
   "outputs": [],
   "source": []
  }
 ],
 "metadata": {
  "kernelspec": {
   "display_name": "Python 3 (ipykernel)",
   "language": "python",
   "name": "python3"
  },
  "language_info": {
   "codemirror_mode": {
    "name": "ipython",
    "version": 3
   },
   "file_extension": ".py",
   "mimetype": "text/x-python",
   "name": "python",
   "nbconvert_exporter": "python",
   "pygments_lexer": "ipython3",
   "version": "3.11.5"
  }
 },
 "nbformat": 4,
 "nbformat_minor": 5
}
